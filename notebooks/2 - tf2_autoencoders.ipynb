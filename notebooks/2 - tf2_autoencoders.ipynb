{
 "cells": [
  {
   "cell_type": "code",
   "execution_count": 1,
   "metadata": {},
   "outputs": [],
   "source": [
    "import tensorflow as tf"
   ]
  },
  {
   "cell_type": "code",
   "execution_count": 2,
   "metadata": {},
   "outputs": [
    {
     "name": "stdout",
     "output_type": "stream",
     "text": [
      "3.7.3 (default, Apr 24 2019, 15:29:51) [MSC v.1915 64 bit (AMD64)]\n",
      "2.0.0-rc1\n"
     ]
    }
   ],
   "source": [
    "import sys\n",
    "print(sys.version)\n",
    "print(tf.__version__)"
   ]
  },
  {
   "cell_type": "code",
   "execution_count": 3,
   "metadata": {},
   "outputs": [],
   "source": [
    "import matplotlib.pyplot as plt"
   ]
  },
  {
   "cell_type": "code",
   "execution_count": 4,
   "metadata": {},
   "outputs": [],
   "source": [
    "%matplotlib inline"
   ]
  },
  {
   "cell_type": "markdown",
   "metadata": {},
   "source": [
    "![](https://blog.keras.io/img/ae/autoencoder_schema.jpg)"
   ]
  },
  {
   "cell_type": "markdown",
   "metadata": {},
   "source": [
    "** More on autoencoders in Keras **\n",
    "\n",
    "[Building Autoencoders in Keras](https://blog.keras.io/building-autoencoders-in-keras.html)\n",
    "\n",
    "[Автоэнкодеры в Keras, Части 1-6](https://habrahabr.ru/post/331382/)"
   ]
  },
  {
   "cell_type": "markdown",
   "metadata": {},
   "source": [
    "### MNIST data"
   ]
  },
  {
   "cell_type": "code",
   "execution_count": 5,
   "metadata": {},
   "outputs": [],
   "source": [
    "from tensorflow.keras.datasets import mnist\n",
    "import numpy as np\n",
    "(x_train, _), (x_test, _) = mnist.load_data()"
   ]
  },
  {
   "cell_type": "code",
   "execution_count": 6,
   "metadata": {},
   "outputs": [
    {
     "name": "stdout",
     "output_type": "stream",
     "text": [
      "(60000, 784)\n",
      "(10000, 784)\n"
     ]
    }
   ],
   "source": [
    "x_train = x_train.astype('float32') / 255.\n",
    "x_test = x_test.astype('float32') / 255.\n",
    "x_train = x_train.reshape((len(x_train), np.prod(x_train.shape[1:])))\n",
    "x_test = x_test.reshape((len(x_test), np.prod(x_test.shape[1:])))\n",
    "print(x_train.shape)\n",
    "print(x_test.shape)"
   ]
  },
  {
   "cell_type": "markdown",
   "metadata": {},
   "source": [
    "### FNN autoencoder"
   ]
  },
  {
   "cell_type": "code",
   "execution_count": 7,
   "metadata": {},
   "outputs": [],
   "source": [
    "from tensorflow.keras.layers import Input, Dense\n",
    "from tensorflow.keras.models import Model\n",
    "\n",
    "# this is the size of our encoded representations\n",
    "encoding_dim = 32  # 32 floats -> compression of factor 24.5, assuming the input is 784 floats\n",
    "\n",
    "# this is our input placeholder\n",
    "input_img = Input(shape=(784,))\n",
    "# \"encoded\" is the encoded representation of the input\n",
    "encoded = Dense(encoding_dim, activation='relu')(input_img)\n",
    "# \"decoded\" is the lossy reconstruction of the input\n",
    "decoded = Dense(784, activation='sigmoid')(encoded)\n",
    "\n",
    "# this model maps an input to its reconstruction\n",
    "autoencoder = Model(input_img, decoded)"
   ]
  },
  {
   "cell_type": "code",
   "execution_count": 8,
   "metadata": {},
   "outputs": [],
   "source": [
    "# this model maps an input to its encoded representation\n",
    "encoder = Model(input_img, encoded)"
   ]
  },
  {
   "cell_type": "code",
   "execution_count": 9,
   "metadata": {},
   "outputs": [],
   "source": [
    "# create a placeholder for an encoded (32-dimensional) input\n",
    "encoded_input = Input(shape=(encoding_dim,))\n",
    "# retrieve the last layer of the autoencoder model\n",
    "decoder_layer = autoencoder.layers[-1]\n",
    "# create the decoder model\n",
    "decoder = Model(encoded_input, decoder_layer(encoded_input))"
   ]
  },
  {
   "cell_type": "code",
   "execution_count": 11,
   "metadata": {},
   "outputs": [],
   "source": [
    "autoencoder.compile(optimizer='adam', loss='binary_crossentropy')"
   ]
  },
  {
   "cell_type": "code",
   "execution_count": 12,
   "metadata": {},
   "outputs": [
    {
     "name": "stdout",
     "output_type": "stream",
     "text": [
      "Model: \"model\"\n",
      "_________________________________________________________________\n",
      "Layer (type)                 Output Shape              Param #   \n",
      "=================================================================\n",
      "input_1 (InputLayer)         [(None, 784)]             0         \n",
      "_________________________________________________________________\n",
      "dense (Dense)                (None, 32)                25120     \n",
      "_________________________________________________________________\n",
      "dense_1 (Dense)              (None, 784)               25872     \n",
      "=================================================================\n",
      "Total params: 50,992\n",
      "Trainable params: 50,992\n",
      "Non-trainable params: 0\n",
      "_________________________________________________________________\n"
     ]
    }
   ],
   "source": [
    "autoencoder.summary()"
   ]
  },
  {
   "cell_type": "code",
   "execution_count": 13,
   "metadata": {},
   "outputs": [
    {
     "name": "stdout",
     "output_type": "stream",
     "text": [
      "Train on 60000 samples, validate on 10000 samples\n",
      "Epoch 1/50\n",
      "WARNING:tensorflow:From C:\\Users\\grigo\\Anaconda3\\envs\\tf2\\lib\\site-packages\\tensorflow_core\\python\\ops\\nn_impl.py:183: where (from tensorflow.python.ops.array_ops) is deprecated and will be removed in a future version.\n",
      "Instructions for updating:\n",
      "Use tf.where in 2.0, which has the same broadcast rule as np.where\n",
      "60000/60000 [==============================] - 3s 51us/sample - loss: 0.2773 - val_loss: 0.1929\n",
      "Epoch 2/50\n",
      "60000/60000 [==============================] - 2s 31us/sample - loss: 0.1722 - val_loss: 0.1544\n",
      "Epoch 3/50\n",
      "60000/60000 [==============================] - 2s 28us/sample - loss: 0.1451 - val_loss: 0.1344\n",
      "Epoch 4/50\n",
      "60000/60000 [==============================] - 2s 29us/sample - loss: 0.1292 - val_loss: 0.1220\n",
      "Epoch 5/50\n",
      "60000/60000 [==============================] - 2s 27us/sample - loss: 0.1187 - val_loss: 0.1131\n",
      "Epoch 6/50\n",
      "60000/60000 [==============================] - 2s 31us/sample - loss: 0.1115 - val_loss: 0.1075\n",
      "Epoch 7/50\n",
      "60000/60000 [==============================] - 2s 31us/sample - loss: 0.1063 - val_loss: 0.1028\n",
      "Epoch 8/50\n",
      "60000/60000 [==============================] - 2s 30us/sample - loss: 0.1024 - val_loss: 0.0996\n",
      "Epoch 9/50\n",
      "60000/60000 [==============================] - 2s 30us/sample - loss: 0.0996 - val_loss: 0.0972\n",
      "Epoch 10/50\n",
      "60000/60000 [==============================] - 2s 31us/sample - loss: 0.0977 - val_loss: 0.0957\n",
      "Epoch 11/50\n",
      "60000/60000 [==============================] - 2s 28us/sample - loss: 0.0964 - val_loss: 0.0947\n",
      "Epoch 12/50\n",
      "60000/60000 [==============================] - 2s 33us/sample - loss: 0.0956 - val_loss: 0.0940\n",
      "Epoch 13/50\n",
      "60000/60000 [==============================] - 2s 31us/sample - loss: 0.0950 - val_loss: 0.0936\n",
      "Epoch 14/50\n",
      "60000/60000 [==============================] - 2s 31us/sample - loss: 0.0947 - val_loss: 0.0932\n",
      "Epoch 15/50\n",
      "60000/60000 [==============================] - 2s 32us/sample - loss: 0.0944 - val_loss: 0.0930\n",
      "Epoch 16/50\n",
      "60000/60000 [==============================] - 2s 30us/sample - loss: 0.0941 - val_loss: 0.0928\n",
      "Epoch 17/50\n",
      "60000/60000 [==============================] - 2s 32us/sample - loss: 0.0940 - val_loss: 0.0927\n",
      "Epoch 18/50\n",
      "60000/60000 [==============================] - 2s 29us/sample - loss: 0.0938 - val_loss: 0.0925\n",
      "Epoch 19/50\n",
      "60000/60000 [==============================] - 2s 29us/sample - loss: 0.0937 - val_loss: 0.0924\n",
      "Epoch 20/50\n",
      "60000/60000 [==============================] - 2s 33us/sample - loss: 0.0936 - val_loss: 0.0924\n",
      "Epoch 21/50\n",
      "60000/60000 [==============================] - 2s 30us/sample - loss: 0.0935 - val_loss: 0.0923\n",
      "Epoch 22/50\n",
      "60000/60000 [==============================] - 2s 33us/sample - loss: 0.0935 - val_loss: 0.0922\n",
      "Epoch 23/50\n",
      "60000/60000 [==============================] - 3s 42us/sample - loss: 0.0934 - val_loss: 0.0921\n",
      "Epoch 24/50\n",
      "60000/60000 [==============================] - 2s 33us/sample - loss: 0.0933 - val_loss: 0.0921\n",
      "Epoch 25/50\n",
      "60000/60000 [==============================] - 2s 29us/sample - loss: 0.0933 - val_loss: 0.0920\n",
      "Epoch 26/50\n",
      "60000/60000 [==============================] - 2s 32us/sample - loss: 0.0932 - val_loss: 0.0920\n",
      "Epoch 27/50\n",
      "60000/60000 [==============================] - 2s 30us/sample - loss: 0.0932 - val_loss: 0.0920\n",
      "Epoch 28/50\n",
      "60000/60000 [==============================] - 2s 30us/sample - loss: 0.0932 - val_loss: 0.0919\n",
      "Epoch 29/50\n",
      "60000/60000 [==============================] - 2s 25us/sample - loss: 0.0931 - val_loss: 0.0919\n",
      "Epoch 30/50\n",
      "60000/60000 [==============================] - 2s 31us/sample - loss: 0.0931 - val_loss: 0.0920\n",
      "Epoch 31/50\n",
      "60000/60000 [==============================] - 2s 29us/sample - loss: 0.0931 - val_loss: 0.0920\n",
      "Epoch 32/50\n",
      "60000/60000 [==============================] - 1s 24us/sample - loss: 0.0930 - val_loss: 0.0919\n",
      "Epoch 33/50\n",
      "60000/60000 [==============================] - 2s 35us/sample - loss: 0.0930 - val_loss: 0.0919\n",
      "Epoch 34/50\n",
      "60000/60000 [==============================] - 2s 28us/sample - loss: 0.0930 - val_loss: 0.0919\n",
      "Epoch 35/50\n",
      "60000/60000 [==============================] - 2s 36us/sample - loss: 0.0930 - val_loss: 0.0918\n",
      "Epoch 36/50\n",
      "60000/60000 [==============================] - 2s 30us/sample - loss: 0.0929 - val_loss: 0.0918\n",
      "Epoch 37/50\n",
      "60000/60000 [==============================] - 2s 29us/sample - loss: 0.0929 - val_loss: 0.0918\n",
      "Epoch 38/50\n",
      "60000/60000 [==============================] - 2s 26us/sample - loss: 0.0929 - val_loss: 0.0918\n",
      "Epoch 39/50\n",
      "60000/60000 [==============================] - 2s 27us/sample - loss: 0.0929 - val_loss: 0.0918\n",
      "Epoch 40/50\n",
      "60000/60000 [==============================] - 2s 29us/sample - loss: 0.0929 - val_loss: 0.0918\n",
      "Epoch 41/50\n",
      "60000/60000 [==============================] - 2s 26us/sample - loss: 0.0928 - val_loss: 0.0917\n",
      "Epoch 42/50\n",
      "60000/60000 [==============================] - 2s 29us/sample - loss: 0.0928 - val_loss: 0.0917\n",
      "Epoch 43/50\n",
      "60000/60000 [==============================] - 2s 33us/sample - loss: 0.0928 - val_loss: 0.0917\n",
      "Epoch 44/50\n",
      "60000/60000 [==============================] - 2s 31us/sample - loss: 0.0928 - val_loss: 0.0917\n",
      "Epoch 45/50\n",
      "60000/60000 [==============================] - 2s 31us/sample - loss: 0.0928 - val_loss: 0.0918\n",
      "Epoch 46/50\n",
      "60000/60000 [==============================] - 2s 30us/sample - loss: 0.0928 - val_loss: 0.0917\n",
      "Epoch 47/50\n",
      "60000/60000 [==============================] - 2s 29us/sample - loss: 0.0927 - val_loss: 0.0917\n",
      "Epoch 48/50\n",
      "60000/60000 [==============================] - 2s 36us/sample - loss: 0.0927 - val_loss: 0.0917\n",
      "Epoch 49/50\n",
      "60000/60000 [==============================] - 3s 45us/sample - loss: 0.0927 - val_loss: 0.0917\n",
      "Epoch 50/50\n",
      "60000/60000 [==============================] - 4s 59us/sample - loss: 0.0927 - val_loss: 0.0917\n"
     ]
    },
    {
     "data": {
      "text/plain": [
       "<tensorflow.python.keras.callbacks.History at 0x150823a7278>"
      ]
     },
     "execution_count": 13,
     "metadata": {},
     "output_type": "execute_result"
    }
   ],
   "source": [
    "autoencoder.fit(x_train, x_train,\n",
    "                epochs=50,\n",
    "                batch_size=256,\n",
    "                shuffle=True,\n",
    "                validation_data=(x_test, x_test))"
   ]
  },
  {
   "cell_type": "code",
   "execution_count": 14,
   "metadata": {},
   "outputs": [],
   "source": [
    "# encode and decode some digits\n",
    "# note that we take them from the *test* set\n",
    "encoded_imgs = encoder.predict(x_test)\n",
    "decoded_imgs = decoder.predict(encoded_imgs)"
   ]
  },
  {
   "cell_type": "code",
   "execution_count": 15,
   "metadata": {},
   "outputs": [
    {
     "data": {
      "image/png": "[encoded data removed]",
      "text/plain": [
       "<Figure size 1440x288 with 20 Axes>"
      ]
     },
     "metadata": {
      "needs_background": "light"
     },
     "output_type": "display_data"
    }
   ],
   "source": [
    "n = 10  # how many digits we will display\n",
    "plt.figure(figsize=(20, 4))\n",
    "for i in range(n):\n",
    "    # display original\n",
    "    ax = plt.subplot(2, n, i + 1)\n",
    "    plt.imshow(x_test[i].reshape(28, 28))\n",
    "    plt.gray()\n",
    "    ax.get_xaxis().set_visible(False)\n",
    "    ax.get_yaxis().set_visible(False)\n",
    "\n",
    "    # display reconstruction\n",
    "    ax = plt.subplot(2, n, i + 1 + n)\n",
    "    plt.imshow(decoded_imgs[i].reshape(28, 28))\n",
    "    plt.gray()\n",
    "    ax.get_xaxis().set_visible(False)\n",
    "    ax.get_yaxis().set_visible(False)\n",
    "plt.show()"
   ]
  },
  {
   "cell_type": "code",
   "execution_count": 17,
   "metadata": {},
   "outputs": [],
   "source": [
    "score = autoencoder.evaluate(x_test, x_test, verbose=0)"
   ]
  },
  {
   "cell_type": "code",
   "execution_count": 18,
   "metadata": {},
   "outputs": [
    {
     "data": {
      "text/plain": [
       "0.09166641685962677"
      ]
     },
     "execution_count": 18,
     "metadata": {},
     "output_type": "execute_result"
    }
   ],
   "source": [
    "score"
   ]
  },
  {
   "cell_type": "code",
   "execution_count": 19,
   "metadata": {},
   "outputs": [
    {
     "data": {
      "image/png": "[encoded data removed]",
      "text/plain": [
       "<Figure size 1440x576 with 10 Axes>"
      ]
     },
     "metadata": {
      "needs_background": "light"
     },
     "output_type": "display_data"
    }
   ],
   "source": [
    "n = 10\n",
    "plt.figure(figsize=(20, 8))\n",
    "for i in range(n):\n",
    "    ax = plt.subplot(1, n, i+1)\n",
    "    plt.imshow(encoded_imgs[i].reshape(4, 8).T)\n",
    "    plt.gray()\n",
    "    ax.get_xaxis().set_visible(False)\n",
    "    ax.get_yaxis().set_visible(False)\n",
    "plt.show()"
   ]
  },
  {
   "cell_type": "markdown",
   "metadata": {},
   "source": [
    "### Deep FNN autoencoder"
   ]
  },
  {
   "cell_type": "code",
   "execution_count": 20,
   "metadata": {},
   "outputs": [],
   "source": [
    "input_img = Input(shape=(784,))\n",
    "encoded = Dense(128, activation='relu')(input_img)\n",
    "encoded = Dense(64, activation='relu')(encoded)\n",
    "encoded = Dense(32, activation='relu')(encoded)\n",
    "\n",
    "decoded = Dense(64, activation='relu')(encoded)\n",
    "decoded = Dense(128, activation='relu')(decoded)\n",
    "decoded = Dense(784, activation='sigmoid')(decoded)"
   ]
  },
  {
   "cell_type": "code",
   "execution_count": 21,
   "metadata": {},
   "outputs": [],
   "source": [
    "deep_autoencoder = Model(input_img, decoded)\n",
    "deep_autoencoder.compile(optimizer='adam', loss='binary_crossentropy')"
   ]
  },
  {
   "cell_type": "code",
   "execution_count": 22,
   "metadata": {},
   "outputs": [
    {
     "name": "stdout",
     "output_type": "stream",
     "text": [
      "Train on 60000 samples, validate on 10000 samples\n",
      "Epoch 1/100\n",
      "60000/60000 [==============================] - 3s 45us/sample - loss: 0.2481 - val_loss: 0.1705\n",
      "Epoch 2/100\n",
      "60000/60000 [==============================] - 2s 35us/sample - loss: 0.1508 - val_loss: 0.1345\n",
      "Epoch 3/100\n",
      "60000/60000 [==============================] - 2s 31us/sample - loss: 0.1295 - val_loss: 0.1229\n",
      "Epoch 4/100\n",
      "60000/60000 [==============================] - 2s 32us/sample - loss: 0.1210 - val_loss: 0.1157\n",
      "Epoch 5/100\n",
      "60000/60000 [==============================] - 2s 39us/sample - loss: 0.1150 - val_loss: 0.1109\n",
      "Epoch 6/100\n",
      "60000/60000 [==============================] - 3s 45us/sample - loss: 0.1104 - val_loss: 0.1068\n",
      "Epoch 7/100\n",
      "60000/60000 [==============================] - 3s 47us/sample - loss: 0.1065 - val_loss: 0.1038\n",
      "Epoch 8/100\n",
      "60000/60000 [==============================] - 3s 48us/sample - loss: 0.1036 - val_loss: 0.1009\n",
      "Epoch 9/100\n",
      "60000/60000 [==============================] - 3s 53us/sample - loss: 0.1013 - val_loss: 0.0990\n",
      "Epoch 10/100\n",
      "60000/60000 [==============================] - 3s 44us/sample - loss: 0.0994 - val_loss: 0.0977\n",
      "Epoch 11/100\n",
      "60000/60000 [==============================] - 3s 42us/sample - loss: 0.0980 - val_loss: 0.0962\n",
      "Epoch 12/100\n",
      "60000/60000 [==============================] - 3s 48us/sample - loss: 0.0967 - val_loss: 0.0952\n",
      "Epoch 13/100\n",
      "60000/60000 [==============================] - 3s 45us/sample - loss: 0.0956 - val_loss: 0.0939\n",
      "Epoch 14/100\n",
      "60000/60000 [==============================] - 3s 47us/sample - loss: 0.0945 - val_loss: 0.0931\n",
      "Epoch 15/100\n",
      "60000/60000 [==============================] - 3s 43us/sample - loss: 0.0936 - val_loss: 0.0923\n",
      "Epoch 16/100\n",
      "60000/60000 [==============================] - 3s 47us/sample - loss: 0.0928 - val_loss: 0.0915\n",
      "Epoch 17/100\n",
      "60000/60000 [==============================] - 3s 45us/sample - loss: 0.0920 - val_loss: 0.0908\n",
      "Epoch 18/100\n",
      "60000/60000 [==============================] - 3s 47us/sample - loss: 0.0913 - val_loss: 0.0900\n",
      "Epoch 19/100\n",
      "60000/60000 [==============================] - 3s 43us/sample - loss: 0.0906 - val_loss: 0.0897\n",
      "Epoch 20/100\n",
      "60000/60000 [==============================] - 3s 43us/sample - loss: 0.0901 - val_loss: 0.0891\n",
      "Epoch 21/100\n",
      "60000/60000 [==============================] - 3s 47us/sample - loss: 0.0896 - val_loss: 0.0887\n",
      "Epoch 22/100\n",
      "60000/60000 [==============================] - 2s 40us/sample - loss: 0.0891 - val_loss: 0.0880\n",
      "Epoch 23/100\n",
      "60000/60000 [==============================] - 3s 45us/sample - loss: 0.0887 - val_loss: 0.0876\n",
      "Epoch 24/100\n",
      "60000/60000 [==============================] - 3s 49us/sample - loss: 0.0883 - val_loss: 0.0874\n",
      "Epoch 25/100\n",
      "60000/60000 [==============================] - 3s 47us/sample - loss: 0.0879 - val_loss: 0.0871\n",
      "Epoch 26/100\n",
      "60000/60000 [==============================] - 3s 46us/sample - loss: 0.0875 - val_loss: 0.0865\n",
      "Epoch 27/100\n",
      "60000/60000 [==============================] - 2s 34us/sample - loss: 0.0872 - val_loss: 0.0866\n",
      "Epoch 28/100\n",
      "60000/60000 [==============================] - 2s 36us/sample - loss: 0.0868 - val_loss: 0.0861\n",
      "Epoch 29/100\n",
      "60000/60000 [==============================] - 2s 30us/sample - loss: 0.0865 - val_loss: 0.0858\n",
      "Epoch 30/100\n",
      "60000/60000 [==============================] - 2s 27us/sample - loss: 0.0861 - val_loss: 0.0852\n",
      "Epoch 31/100\n",
      "60000/60000 [==============================] - 2s 29us/sample - loss: 0.0858 - val_loss: 0.0850\n",
      "Epoch 32/100\n",
      "60000/60000 [==============================] - 2s 31us/sample - loss: 0.0855 - val_loss: 0.0848\n",
      "Epoch 33/100\n",
      "60000/60000 [==============================] - 2s 27us/sample - loss: 0.0853 - val_loss: 0.0847\n",
      "Epoch 34/100\n",
      "60000/60000 [==============================] - 2s 30us/sample - loss: 0.0851 - val_loss: 0.0847\n",
      "Epoch 35/100\n",
      "60000/60000 [==============================] - 2s 27us/sample - loss: 0.0849 - val_loss: 0.0841\n",
      "Epoch 36/100\n",
      "60000/60000 [==============================] - 2s 29us/sample - loss: 0.0847 - val_loss: 0.0841\n",
      "Epoch 37/100\n",
      "60000/60000 [==============================] - 2s 29us/sample - loss: 0.0846 - val_loss: 0.0840\n",
      "Epoch 38/100\n",
      "60000/60000 [==============================] - 2s 27us/sample - loss: 0.0844 - val_loss: 0.0840\n",
      "Epoch 39/100\n",
      "60000/60000 [==============================] - 2s 34us/sample - loss: 0.0843 - val_loss: 0.0838\n",
      "Epoch 40/100\n",
      "60000/60000 [==============================] - 2s 28us/sample - loss: 0.0841 - val_loss: 0.0838\n",
      "Epoch 41/100\n",
      "60000/60000 [==============================] - 2s 30us/sample - loss: 0.0840 - val_loss: 0.0835\n",
      "Epoch 42/100\n",
      "60000/60000 [==============================] - 2s 28us/sample - loss: 0.0839 - val_loss: 0.0835\n",
      "Epoch 43/100\n",
      "60000/60000 [==============================] - 2s 28us/sample - loss: 0.0838 - val_loss: 0.0832\n",
      "Epoch 44/100\n",
      "60000/60000 [==============================] - 2s 32us/sample - loss: 0.0837 - val_loss: 0.0833\n",
      "Epoch 45/100\n",
      "60000/60000 [==============================] - 2s 28us/sample - loss: 0.0835 - val_loss: 0.0834\n",
      "Epoch 46/100\n",
      "60000/60000 [==============================] - 2s 33us/sample - loss: 0.0835 - val_loss: 0.0831\n",
      "Epoch 47/100\n",
      "60000/60000 [==============================] - 2s 28us/sample - loss: 0.0833 - val_loss: 0.0830\n",
      "Epoch 48/100\n",
      "60000/60000 [==============================] - 2s 37us/sample - loss: 0.0833 - val_loss: 0.0828\n",
      "Epoch 49/100\n",
      "60000/60000 [==============================] - 2s 40us/sample - loss: 0.0832 - val_loss: 0.0827\n",
      "Epoch 50/100\n",
      "60000/60000 [==============================] - 2s 30us/sample - loss: 0.0831 - val_loss: 0.0826\n",
      "Epoch 51/100\n",
      "60000/60000 [==============================] - 2s 27us/sample - loss: 0.0831 - val_loss: 0.0826\n",
      "Epoch 52/100\n",
      "60000/60000 [==============================] - 2s 32us/sample - loss: 0.0829 - val_loss: 0.0825\n",
      "Epoch 53/100\n",
      "60000/60000 [==============================] - 2s 34us/sample - loss: 0.0829 - val_loss: 0.0825\n",
      "Epoch 54/100\n",
      "60000/60000 [==============================] - 2s 29us/sample - loss: 0.0828 - val_loss: 0.0828\n",
      "Epoch 55/100\n",
      "60000/60000 [==============================] - 2s 30us/sample - loss: 0.0827 - val_loss: 0.0827\n",
      "Epoch 56/100\n",
      "60000/60000 [==============================] - 2s 27us/sample - loss: 0.0826 - val_loss: 0.0823\n",
      "Epoch 57/100\n",
      "60000/60000 [==============================] - 2s 30us/sample - loss: 0.0826 - val_loss: 0.0822\n",
      "Epoch 58/100\n",
      "60000/60000 [==============================] - 2s 27us/sample - loss: 0.0825 - val_loss: 0.0822\n",
      "Epoch 59/100\n",
      "60000/60000 [==============================] - 2s 29us/sample - loss: 0.0825 - val_loss: 0.0824\n",
      "Epoch 60/100\n",
      "60000/60000 [==============================] - 2s 27us/sample - loss: 0.0824 - val_loss: 0.0821\n",
      "Epoch 61/100\n",
      "60000/60000 [==============================] - 2s 29us/sample - loss: 0.0824 - val_loss: 0.0818\n",
      "Epoch 62/100\n",
      "60000/60000 [==============================] - 2s 36us/sample - loss: 0.0823 - val_loss: 0.0821\n",
      "Epoch 63/100\n",
      "60000/60000 [==============================] - 2s 40us/sample - loss: 0.0822 - val_loss: 0.0820\n",
      "Epoch 64/100\n",
      "60000/60000 [==============================] - 2s 34us/sample - loss: 0.0821 - val_loss: 0.0819\n",
      "Epoch 65/100\n",
      "60000/60000 [==============================] - 2s 34us/sample - loss: 0.0820 - val_loss: 0.0818\n",
      "Epoch 66/100\n",
      "60000/60000 [==============================] - 3s 48us/sample - loss: 0.0820 - val_loss: 0.0818\n",
      "Epoch 67/100\n",
      "60000/60000 [==============================] - 3s 43us/sample - loss: 0.0819 - val_loss: 0.0819\n",
      "Epoch 68/100\n",
      "60000/60000 [==============================] - 2s 29us/sample - loss: 0.0819 - val_loss: 0.0815\n",
      "Epoch 69/100\n",
      "60000/60000 [==============================] - 2s 29us/sample - loss: 0.0817 - val_loss: 0.0815\n",
      "Epoch 70/100\n",
      "60000/60000 [==============================] - 2s 35us/sample - loss: 0.0817 - val_loss: 0.0815\n",
      "Epoch 71/100\n",
      "60000/60000 [==============================] - 2s 26us/sample - loss: 0.0817 - val_loss: 0.0814\n",
      "Epoch 72/100\n",
      "60000/60000 [==============================] - 2s 33us/sample - loss: 0.0816 - val_loss: 0.0811\n",
      "Epoch 73/100\n",
      "60000/60000 [==============================] - 2s 28us/sample - loss: 0.0815 - val_loss: 0.0813\n",
      "Epoch 74/100\n",
      "60000/60000 [==============================] - 2s 29us/sample - loss: 0.0815 - val_loss: 0.0811\n",
      "Epoch 75/100\n",
      "60000/60000 [==============================] - 2s 28us/sample - loss: 0.0814 - val_loss: 0.0811\n"
     ]
    },
    {
     "name": "stdout",
     "output_type": "stream",
     "text": [
      "Epoch 76/100\n",
      "60000/60000 [==============================] - 2s 29us/sample - loss: 0.0814 - val_loss: 0.0813\n",
      "Epoch 77/100\n",
      "60000/60000 [==============================] - 2s 38us/sample - loss: 0.0813 - val_loss: 0.0810\n",
      "Epoch 78/100\n",
      "60000/60000 [==============================] - 2s 36us/sample - loss: 0.0813 - val_loss: 0.0808\n",
      "Epoch 79/100\n",
      "60000/60000 [==============================] - 2s 38us/sample - loss: 0.0812 - val_loss: 0.0809\n",
      "Epoch 80/100\n",
      "60000/60000 [==============================] - 2s 30us/sample - loss: 0.0812 - val_loss: 0.0811\n",
      "Epoch 81/100\n",
      "60000/60000 [==============================] - 2s 27us/sample - loss: 0.0812 - val_loss: 0.0810\n",
      "Epoch 82/100\n",
      "60000/60000 [==============================] - 2s 29us/sample - loss: 0.0811 - val_loss: 0.0811\n",
      "Epoch 83/100\n",
      "60000/60000 [==============================] - 2s 29us/sample - loss: 0.0810 - val_loss: 0.0808\n",
      "Epoch 84/100\n",
      "60000/60000 [==============================] - 2s 26us/sample - loss: 0.0810 - val_loss: 0.0808\n",
      "Epoch 85/100\n",
      "60000/60000 [==============================] - 2s 37us/sample - loss: 0.0810 - val_loss: 0.0808\n",
      "Epoch 86/100\n",
      "60000/60000 [==============================] - 2s 38us/sample - loss: 0.0810 - val_loss: 0.0807\n",
      "Epoch 87/100\n",
      "60000/60000 [==============================] - 2s 27us/sample - loss: 0.0810 - val_loss: 0.0808\n",
      "Epoch 88/100\n",
      "60000/60000 [==============================] - 2s 31us/sample - loss: 0.0809 - val_loss: 0.0807\n",
      "Epoch 89/100\n",
      "60000/60000 [==============================] - 2s 28us/sample - loss: 0.0809 - val_loss: 0.0808\n",
      "Epoch 90/100\n",
      "60000/60000 [==============================] - 2s 31us/sample - loss: 0.0809 - val_loss: 0.0806\n",
      "Epoch 91/100\n",
      "60000/60000 [==============================] - 2s 28us/sample - loss: 0.0808 - val_loss: 0.0805\n",
      "Epoch 92/100\n",
      "60000/60000 [==============================] - 2s 28us/sample - loss: 0.0808 - val_loss: 0.0808\n",
      "Epoch 93/100\n",
      "60000/60000 [==============================] - 2s 31us/sample - loss: 0.0808 - val_loss: 0.0803\n",
      "Epoch 94/100\n",
      "60000/60000 [==============================] - 2s 39us/sample - loss: 0.0807 - val_loss: 0.0807\n",
      "Epoch 95/100\n",
      "60000/60000 [==============================] - 2s 35us/sample - loss: 0.0807 - val_loss: 0.0806\n",
      "Epoch 96/100\n",
      "60000/60000 [==============================] - 2s 29us/sample - loss: 0.0807 - val_loss: 0.0808\n",
      "Epoch 97/100\n",
      "60000/60000 [==============================] - 2s 28us/sample - loss: 0.0807 - val_loss: 0.0805\n",
      "Epoch 98/100\n",
      "60000/60000 [==============================] - 2s 29us/sample - loss: 0.0806 - val_loss: 0.0804\n",
      "Epoch 99/100\n",
      "60000/60000 [==============================] - 2s 29us/sample - loss: 0.0806 - val_loss: 0.0804\n",
      "Epoch 100/100\n",
      "60000/60000 [==============================] - 2s 28us/sample - loss: 0.0806 - val_loss: 0.0805\n"
     ]
    },
    {
     "data": {
      "text/plain": [
       "<tensorflow.python.keras.callbacks.History at 0x150959a7eb8>"
      ]
     },
     "execution_count": 22,
     "metadata": {},
     "output_type": "execute_result"
    }
   ],
   "source": [
    "deep_autoencoder.fit(x_train, x_train,\n",
    "                epochs=100,\n",
    "                batch_size=256,\n",
    "                shuffle=True,\n",
    "                validation_data=(x_test, x_test))"
   ]
  },
  {
   "cell_type": "code",
   "execution_count": 23,
   "metadata": {},
   "outputs": [],
   "source": [
    "# this model maps an input to its encoded representation\n",
    "deep_encoder = Model(input_img, encoded)"
   ]
  },
  {
   "cell_type": "code",
   "execution_count": 24,
   "metadata": {},
   "outputs": [
    {
     "name": "stdout",
     "output_type": "stream",
     "text": [
      "Model: \"model_3\"\n",
      "_________________________________________________________________\n",
      "Layer (type)                 Output Shape              Param #   \n",
      "=================================================================\n",
      "input_3 (InputLayer)         [(None, 784)]             0         \n",
      "_________________________________________________________________\n",
      "dense_2 (Dense)              (None, 128)               100480    \n",
      "_________________________________________________________________\n",
      "dense_3 (Dense)              (None, 64)                8256      \n",
      "_________________________________________________________________\n",
      "dense_4 (Dense)              (None, 32)                2080      \n",
      "_________________________________________________________________\n",
      "dense_5 (Dense)              (None, 64)                2112      \n",
      "_________________________________________________________________\n",
      "dense_6 (Dense)              (None, 128)               8320      \n",
      "_________________________________________________________________\n",
      "dense_7 (Dense)              (None, 784)               101136    \n",
      "=================================================================\n",
      "Total params: 222,384\n",
      "Trainable params: 222,384\n",
      "Non-trainable params: 0\n",
      "_________________________________________________________________\n"
     ]
    }
   ],
   "source": [
    "deep_autoencoder.summary()"
   ]
  },
  {
   "cell_type": "code",
   "execution_count": 25,
   "metadata": {},
   "outputs": [],
   "source": [
    "# create a placeholder for an encoded (32-dimensional) input\n",
    "deep_encoded_input = Input(shape=(32,))"
   ]
  },
  {
   "cell_type": "code",
   "execution_count": 26,
   "metadata": {},
   "outputs": [],
   "source": [
    "deep_decoder_layers = deep_autoencoder.layers[-3](deep_encoded_input)\n",
    "deep_decoder_layers = deep_autoencoder.layers[-2](deep_decoder_layers)\n",
    "deep_decoder_layers = deep_autoencoder.layers[-1](deep_decoder_layers)\n",
    "deep_decoder = Model(deep_encoded_input, deep_decoder_layers)"
   ]
  },
  {
   "cell_type": "code",
   "execution_count": 27,
   "metadata": {},
   "outputs": [],
   "source": [
    "encoded_imgs = deep_encoder.predict(x_test)\n",
    "decoded_imgs = deep_decoder.predict(encoded_imgs)"
   ]
  },
  {
   "cell_type": "code",
   "execution_count": 28,
   "metadata": {},
   "outputs": [
    {
     "data": {
      "image/png": "[encoded data removed]",
      "text/plain": [
       "<Figure size 1440x288 with 20 Axes>"
      ]
     },
     "metadata": {
      "needs_background": "light"
     },
     "output_type": "display_data"
    }
   ],
   "source": [
    "n = 10  # how many digits we will display\n",
    "plt.figure(figsize=(20, 4))\n",
    "for i in range(n):\n",
    "    # display original\n",
    "    ax = plt.subplot(2, n, i + 1)\n",
    "    plt.imshow(x_test[i].reshape(28, 28))\n",
    "    plt.gray()\n",
    "    ax.get_xaxis().set_visible(False)\n",
    "    ax.get_yaxis().set_visible(False)\n",
    "\n",
    "    # display reconstruction\n",
    "    ax = plt.subplot(2, n, i + 1 + n)\n",
    "    plt.imshow(decoded_imgs[i].reshape(28, 28))\n",
    "    plt.gray()\n",
    "    ax.get_xaxis().set_visible(False)\n",
    "    ax.get_yaxis().set_visible(False)\n",
    "plt.show()"
   ]
  },
  {
   "cell_type": "code",
   "execution_count": 29,
   "metadata": {},
   "outputs": [],
   "source": [
    "score = deep_autoencoder.evaluate(x_test, x_test, verbose=0)"
   ]
  },
  {
   "cell_type": "code",
   "execution_count": 30,
   "metadata": {},
   "outputs": [
    {
     "data": {
      "text/plain": [
       "0.08048202735185624"
      ]
     },
     "execution_count": 30,
     "metadata": {},
     "output_type": "execute_result"
    }
   ],
   "source": [
    "score"
   ]
  },
  {
   "cell_type": "code",
   "execution_count": 31,
   "metadata": {},
   "outputs": [
    {
     "data": {
      "image/png": "[encoded data removed]",
      "text/plain": [
       "<Figure size 1440x576 with 10 Axes>"
      ]
     },
     "metadata": {
      "needs_background": "light"
     },
     "output_type": "display_data"
    }
   ],
   "source": [
    "n = 10\n",
    "plt.figure(figsize=(20, 8))\n",
    "for i in range(n):\n",
    "    ax = plt.subplot(1, n, i+1)\n",
    "    plt.imshow(encoded_imgs[i].reshape(4, 8).T)\n",
    "    plt.gray()\n",
    "    ax.get_xaxis().set_visible(False)\n",
    "    ax.get_yaxis().set_visible(False)\n",
    "plt.show()"
   ]
  },
  {
   "cell_type": "markdown",
   "metadata": {},
   "source": [
    "### Deep regularized FNN autoencoder"
   ]
  },
  {
   "cell_type": "code",
   "execution_count": 33,
   "metadata": {},
   "outputs": [],
   "source": [
    "from tensorflow.keras import regularizers"
   ]
  },
  {
   "cell_type": "code",
   "execution_count": 34,
   "metadata": {},
   "outputs": [],
   "source": [
    "input_img = Input(shape=(784,))\n",
    "encoded = Dense(128, activation='relu', activity_regularizer=regularizers.l1(10e-7))(input_img)\n",
    "encoded = Dense(64, activation='relu', activity_regularizer=regularizers.l1(10e-7))(encoded)\n",
    "encoded = Dense(32, activation='relu', activity_regularizer=regularizers.l1(10e-7))(encoded)\n",
    "\n",
    "decoded = Dense(64, activation='relu')(encoded)\n",
    "decoded = Dense(128, activation='relu')(decoded)\n",
    "decoded = Dense(784, activation='sigmoid')(decoded)"
   ]
  },
  {
   "cell_type": "code",
   "execution_count": 35,
   "metadata": {},
   "outputs": [
    {
     "name": "stdout",
     "output_type": "stream",
     "text": [
      "Train on 60000 samples, validate on 10000 samples\n",
      "Epoch 1/50\n",
      "60000/60000 [==============================] - 3s 52us/sample - loss: 0.2488 - val_loss: 0.1674\n",
      "Epoch 2/50\n",
      "60000/60000 [==============================] - 2s 37us/sample - loss: 0.1520 - val_loss: 0.1385\n",
      "Epoch 3/50\n",
      "60000/60000 [==============================] - 2s 29us/sample - loss: 0.1334 - val_loss: 0.1252\n",
      "Epoch 4/50\n",
      "60000/60000 [==============================] - 2s 34us/sample - loss: 0.1226 - val_loss: 0.1169\n",
      "Epoch 5/50\n",
      "60000/60000 [==============================] - 2s 30us/sample - loss: 0.1159 - val_loss: 0.1117\n",
      "Epoch 6/50\n",
      "60000/60000 [==============================] - 2s 27us/sample - loss: 0.1110 - val_loss: 0.1088\n",
      "Epoch 7/50\n",
      "60000/60000 [==============================] - 2s 26us/sample - loss: 0.1077 - val_loss: 0.1051\n",
      "Epoch 8/50\n",
      "60000/60000 [==============================] - 2s 30us/sample - loss: 0.1054 - val_loss: 0.1030\n",
      "Epoch 9/50\n",
      "60000/60000 [==============================] - 2s 33us/sample - loss: 0.1035 - val_loss: 0.1012\n",
      "Epoch 10/50\n",
      "60000/60000 [==============================] - 1s 25us/sample - loss: 0.1017 - val_loss: 0.1002\n",
      "Epoch 11/50\n",
      "60000/60000 [==============================] - 2s 29us/sample - loss: 0.1002 - val_loss: 0.0985\n",
      "Epoch 12/50\n",
      "60000/60000 [==============================] - 2s 35us/sample - loss: 0.0990 - val_loss: 0.0975\n",
      "Epoch 13/50\n",
      "60000/60000 [==============================] - 2s 29us/sample - loss: 0.0980 - val_loss: 0.0966\n",
      "Epoch 14/50\n",
      "60000/60000 [==============================] - 2s 26us/sample - loss: 0.0970 - val_loss: 0.0954\n",
      "Epoch 15/50\n",
      "60000/60000 [==============================] - 2s 26us/sample - loss: 0.0961 - val_loss: 0.0944\n",
      "Epoch 16/50\n",
      "60000/60000 [==============================] - 2s 26us/sample - loss: 0.0952 - val_loss: 0.0949\n",
      "Epoch 17/50\n",
      "60000/60000 [==============================] - 1s 24us/sample - loss: 0.0944 - val_loss: 0.0930\n",
      "Epoch 18/50\n",
      "60000/60000 [==============================] - 2s 27us/sample - loss: 0.0936 - val_loss: 0.0926\n",
      "Epoch 19/50\n",
      "60000/60000 [==============================] - 2s 26us/sample - loss: 0.0930 - val_loss: 0.0918\n",
      "Epoch 20/50\n",
      "60000/60000 [==============================] - 2s 29us/sample - loss: 0.0924 - val_loss: 0.0915\n",
      "Epoch 21/50\n",
      "60000/60000 [==============================] - 2s 26us/sample - loss: 0.0919 - val_loss: 0.0908\n",
      "Epoch 22/50\n",
      "60000/60000 [==============================] - 2s 29us/sample - loss: 0.0914 - val_loss: 0.0905\n",
      "Epoch 23/50\n",
      "60000/60000 [==============================] - 2s 33us/sample - loss: 0.0909 - val_loss: 0.0899\n",
      "Epoch 24/50\n",
      "60000/60000 [==============================] - 2s 31us/sample - loss: 0.0905 - val_loss: 0.0895\n",
      "Epoch 25/50\n",
      "60000/60000 [==============================] - 2s 29us/sample - loss: 0.0901 - val_loss: 0.0892\n",
      "Epoch 26/50\n",
      "60000/60000 [==============================] - 2s 25us/sample - loss: 0.0897 - val_loss: 0.0889\n",
      "Epoch 27/50\n",
      "60000/60000 [==============================] - 2s 29us/sample - loss: 0.0894 - val_loss: 0.0885\n",
      "Epoch 28/50\n",
      "60000/60000 [==============================] - 2s 27us/sample - loss: 0.0890 - val_loss: 0.0884\n",
      "Epoch 29/50\n",
      "60000/60000 [==============================] - 2s 28us/sample - loss: 0.0886 - val_loss: 0.0878\n",
      "Epoch 30/50\n",
      "60000/60000 [==============================] - 2s 27us/sample - loss: 0.0883 - val_loss: 0.0873\n",
      "Epoch 31/50\n",
      "60000/60000 [==============================] - 2s 28us/sample - loss: 0.0881 - val_loss: 0.0873\n",
      "Epoch 32/50\n",
      "60000/60000 [==============================] - 2s 27us/sample - loss: 0.0878 - val_loss: 0.0873\n",
      "Epoch 33/50\n",
      "60000/60000 [==============================] - 2s 27us/sample - loss: 0.0876 - val_loss: 0.0867\n",
      "Epoch 34/50\n",
      "60000/60000 [==============================] - 2s 27us/sample - loss: 0.0874 - val_loss: 0.0867\n",
      "Epoch 35/50\n",
      "60000/60000 [==============================] - 2s 26us/sample - loss: 0.0871 - val_loss: 0.0865\n",
      "Epoch 36/50\n",
      "60000/60000 [==============================] - 2s 29us/sample - loss: 0.0869 - val_loss: 0.0862\n",
      "Epoch 37/50\n",
      "60000/60000 [==============================] - 1s 25us/sample - loss: 0.0867 - val_loss: 0.0861\n",
      "Epoch 38/50\n",
      "60000/60000 [==============================] - 2s 31us/sample - loss: 0.0865 - val_loss: 0.0856\n",
      "Epoch 39/50\n",
      "60000/60000 [==============================] - 2s 27us/sample - loss: 0.0862 - val_loss: 0.0856\n",
      "Epoch 40/50\n",
      "60000/60000 [==============================] - 2s 28us/sample - loss: 0.0860 - val_loss: 0.0854\n",
      "Epoch 41/50\n",
      "60000/60000 [==============================] - 2s 27us/sample - loss: 0.0858 - val_loss: 0.0854\n",
      "Epoch 42/50\n",
      "60000/60000 [==============================] - 2s 27us/sample - loss: 0.0856 - val_loss: 0.0851\n",
      "Epoch 43/50\n",
      "60000/60000 [==============================] - 2s 27us/sample - loss: 0.0854 - val_loss: 0.0850\n",
      "Epoch 44/50\n",
      "60000/60000 [==============================] - 2s 28us/sample - loss: 0.0853 - val_loss: 0.0849\n",
      "Epoch 45/50\n",
      "60000/60000 [==============================] - 2s 29us/sample - loss: 0.0851 - val_loss: 0.0846\n",
      "Epoch 46/50\n",
      "60000/60000 [==============================] - 2s 26us/sample - loss: 0.0849 - val_loss: 0.0845\n",
      "Epoch 47/50\n",
      "60000/60000 [==============================] - 2s 34us/sample - loss: 0.0848 - val_loss: 0.0842\n",
      "Epoch 48/50\n",
      "60000/60000 [==============================] - 2s 29us/sample - loss: 0.0846 - val_loss: 0.0841\n",
      "Epoch 49/50\n",
      "60000/60000 [==============================] - 2s 34us/sample - loss: 0.0845 - val_loss: 0.0838\n",
      "Epoch 50/50\n",
      "60000/60000 [==============================] - 2s 34us/sample - loss: 0.0844 - val_loss: 0.0841\n"
     ]
    },
    {
     "data": {
      "text/plain": [
       "<tensorflow.python.keras.callbacks.History at 0x15092217128>"
      ]
     },
     "execution_count": 35,
     "metadata": {},
     "output_type": "execute_result"
    }
   ],
   "source": [
    "deep_autoencoder_l1 = Model(input_img, decoded)\n",
    "deep_autoencoder_l1.compile(optimizer='adam', loss='binary_crossentropy')\n",
    "\n",
    "deep_autoencoder_l1.fit(x_train, x_train,\n",
    "                epochs=50,\n",
    "                batch_size=256,\n",
    "                shuffle=True,\n",
    "                validation_data=(x_test, x_test))"
   ]
  },
  {
   "cell_type": "code",
   "execution_count": 36,
   "metadata": {},
   "outputs": [],
   "source": [
    "# this model maps an input to its encoded representation\n",
    "deep_encoder_l1 = Model(input_img, encoded)"
   ]
  },
  {
   "cell_type": "code",
   "execution_count": 37,
   "metadata": {},
   "outputs": [],
   "source": [
    "# create a placeholder for an encoded (32-dimensional) input\n",
    "deep_encoded_input_l1 = Input(shape=(32,))"
   ]
  },
  {
   "cell_type": "code",
   "execution_count": 38,
   "metadata": {},
   "outputs": [],
   "source": [
    "deep_decoder_layers_l1 = deep_autoencoder_l1.layers[-3](deep_encoded_input_l1)\n",
    "deep_decoder_layers_l1 = deep_autoencoder_l1.layers[-2](deep_decoder_layers_l1)\n",
    "deep_decoder_layers_l1 = deep_autoencoder_l1.layers[-1](deep_decoder_layers_l1)\n",
    "deep_decoder_l1 = Model(deep_encoded_input_l1, deep_decoder_layers_l1)"
   ]
  },
  {
   "cell_type": "code",
   "execution_count": 39,
   "metadata": {},
   "outputs": [],
   "source": [
    "encoded_imgs = deep_encoder_l1.predict(x_test)\n",
    "decoded_imgs = deep_decoder_l1.predict(encoded_imgs)"
   ]
  },
  {
   "cell_type": "code",
   "execution_count": 40,
   "metadata": {},
   "outputs": [
    {
     "data": {
      "image/png": "[encoded data removed]",
      "text/plain": [
       "<Figure size 1440x288 with 20 Axes>"
      ]
     },
     "metadata": {
      "needs_background": "light"
     },
     "output_type": "display_data"
    }
   ],
   "source": [
    "n = 10  # how many digits we will display\n",
    "plt.figure(figsize=(20, 4))\n",
    "for i in range(n):\n",
    "    # display original\n",
    "    ax = plt.subplot(2, n, i + 1)\n",
    "    plt.imshow(x_test[i].reshape(28, 28))\n",
    "    plt.gray()\n",
    "    ax.get_xaxis().set_visible(False)\n",
    "    ax.get_yaxis().set_visible(False)\n",
    "\n",
    "    # display reconstruction\n",
    "    ax = plt.subplot(2, n, i + 1 + n)\n",
    "    plt.imshow(decoded_imgs[i].reshape(28, 28))\n",
    "    plt.gray()\n",
    "    ax.get_xaxis().set_visible(False)\n",
    "    ax.get_yaxis().set_visible(False)\n",
    "plt.show()"
   ]
  },
  {
   "cell_type": "code",
   "execution_count": 41,
   "metadata": {},
   "outputs": [],
   "source": [
    "score = deep_autoencoder_l1.evaluate(x_test, x_test, verbose=0)"
   ]
  },
  {
   "cell_type": "code",
   "execution_count": 42,
   "metadata": {},
   "outputs": [
    {
     "data": {
      "text/plain": [
       "0.08409563837051391"
      ]
     },
     "execution_count": 42,
     "metadata": {},
     "output_type": "execute_result"
    }
   ],
   "source": [
    "score"
   ]
  },
  {
   "cell_type": "code",
   "execution_count": 43,
   "metadata": {},
   "outputs": [
    {
     "data": {
      "image/png": "[encoded data removed]",
      "text/plain": [
       "<Figure size 1440x576 with 10 Axes>"
      ]
     },
     "metadata": {
      "needs_background": "light"
     },
     "output_type": "display_data"
    }
   ],
   "source": [
    "n = 10\n",
    "plt.figure(figsize=(20, 8))\n",
    "for i in range(n):\n",
    "    ax = plt.subplot(1, n, i+1)\n",
    "    plt.imshow(encoded_imgs[i].reshape(4, 8).T)\n",
    "    plt.gray()\n",
    "    ax.get_xaxis().set_visible(False)\n",
    "    ax.get_yaxis().set_visible(False)\n",
    "plt.show()"
   ]
  },
  {
   "cell_type": "markdown",
   "metadata": {},
   "source": [
    "### Denoising autoencoder"
   ]
  },
  {
   "cell_type": "code",
   "execution_count": 44,
   "metadata": {},
   "outputs": [],
   "source": [
    "from tensorflow.keras.datasets import mnist\n",
    "import numpy as np\n",
    "\n",
    "(x_train, _), (x_test, _) = mnist.load_data()\n",
    "\n",
    "x_train = x_train.astype('float32') / 255.\n",
    "x_test = x_test.astype('float32') / 255.\n",
    "x_train = np.reshape(x_train, (len(x_train), 28, 28, 1))  # adapt this if using `channels_first` image data format\n",
    "x_test = np.reshape(x_test, (len(x_test), 28, 28, 1))  # adapt this if using `channels_first` image data format\n",
    "\n",
    "noise_factor = 0.5\n",
    "x_train_noisy = x_train + noise_factor * np.random.normal(loc=0.0, scale=1.0, size=x_train.shape) \n",
    "x_test_noisy = x_test + noise_factor * np.random.normal(loc=0.0, scale=1.0, size=x_test.shape) \n",
    "\n",
    "x_train_noisy = np.clip(x_train_noisy, 0., 1.)\n",
    "x_test_noisy = np.clip(x_test_noisy, 0., 1.)"
   ]
  },
  {
   "cell_type": "code",
   "execution_count": 45,
   "metadata": {},
   "outputs": [
    {
     "data": {
      "image/png": "[encoded data removed]",
      "text/plain": [
       "<Figure size 1440x144 with 10 Axes>"
      ]
     },
     "metadata": {
      "needs_background": "light"
     },
     "output_type": "display_data"
    }
   ],
   "source": [
    "n = 10\n",
    "plt.figure(figsize=(20, 2))\n",
    "for i in range(n):\n",
    "    ax = plt.subplot(1, n, i+1)\n",
    "    plt.imshow(x_test_noisy[i].reshape(28, 28))\n",
    "    plt.gray()\n",
    "    ax.get_xaxis().set_visible(False)\n",
    "    ax.get_yaxis().set_visible(False)\n",
    "plt.show()"
   ]
  },
  {
   "cell_type": "code",
   "execution_count": 46,
   "metadata": {},
   "outputs": [],
   "source": [
    "x_train_noisy = x_train.reshape((len(x_train_noisy), np.prod(x_train_noisy.shape[1:])))\n",
    "x_test_noisy = x_test_noisy.reshape((len(x_test_noisy), np.prod(x_test_noisy.shape[1:])))\n",
    "x_train = x_train.reshape((len(x_train), np.prod(x_train.shape[1:])))\n",
    "x_test = x_test.reshape((len(x_test), np.prod(x_test.shape[1:])))"
   ]
  },
  {
   "cell_type": "code",
   "execution_count": 47,
   "metadata": {},
   "outputs": [],
   "source": [
    "input_img = Input(shape=(784,))\n",
    "encoded = Dense(128, activation='relu')(input_img)\n",
    "encoded = Dense(64, activation='relu')(encoded)\n",
    "encoded = Dense(32, activation='relu')(encoded)\n",
    "\n",
    "decoded = Dense(64, activation='relu')(encoded)\n",
    "decoded = Dense(128, activation='relu')(decoded)\n",
    "decoded = Dense(784, activation='sigmoid')(decoded)"
   ]
  },
  {
   "cell_type": "code",
   "execution_count": 48,
   "metadata": {},
   "outputs": [
    {
     "name": "stdout",
     "output_type": "stream",
     "text": [
      "Train on 60000 samples, validate on 10000 samples\n",
      "Epoch 1/50\n",
      "60000/60000 [==============================] - 3s 47us/sample - loss: 0.2423 - val_loss: 0.2520\n",
      "Epoch 2/50\n",
      "60000/60000 [==============================] - 2s 34us/sample - loss: 0.1483 - val_loss: 0.2784\n",
      "Epoch 3/50\n",
      "60000/60000 [==============================] - 1s 25us/sample - loss: 0.1306 - val_loss: 0.2783\n",
      "Epoch 4/50\n",
      "60000/60000 [==============================] - 1s 23us/sample - loss: 0.1214 - val_loss: 0.2934\n",
      "Epoch 5/50\n",
      "60000/60000 [==============================] - 1s 23us/sample - loss: 0.1157 - val_loss: 0.3173\n",
      "Epoch 6/50\n",
      "60000/60000 [==============================] - 1s 24us/sample - loss: 0.1113 - val_loss: 0.3222\n",
      "Epoch 7/50\n",
      "60000/60000 [==============================] - 1s 23us/sample - loss: 0.1080 - val_loss: 0.3242\n",
      "Epoch 8/50\n",
      "60000/60000 [==============================] - 1s 24us/sample - loss: 0.1052 - val_loss: 0.3197\n",
      "Epoch 9/50\n",
      "60000/60000 [==============================] - 1s 24us/sample - loss: 0.1029 - val_loss: 0.3323\n",
      "Epoch 10/50\n",
      "60000/60000 [==============================] - 1s 23us/sample - loss: 0.1008 - val_loss: 0.3340\n",
      "Epoch 11/50\n",
      "60000/60000 [==============================] - 1s 23us/sample - loss: 0.0989 - val_loss: 0.3299\n",
      "Epoch 12/50\n",
      "60000/60000 [==============================] - 1s 24us/sample - loss: 0.0975 - val_loss: 0.3343\n",
      "Epoch 13/50\n",
      "60000/60000 [==============================] - 1s 24us/sample - loss: 0.0963 - val_loss: 0.3381\n",
      "Epoch 14/50\n",
      "60000/60000 [==============================] - 1s 24us/sample - loss: 0.0952 - val_loss: 0.3301\n",
      "Epoch 15/50\n",
      "60000/60000 [==============================] - 1s 23us/sample - loss: 0.0942 - val_loss: 0.3300\n",
      "Epoch 16/50\n",
      "60000/60000 [==============================] - 2s 26us/sample - loss: 0.0934 - val_loss: 0.3307\n",
      "Epoch 17/50\n",
      "60000/60000 [==============================] - 1s 24us/sample - loss: 0.0926 - val_loss: 0.3256\n",
      "Epoch 18/50\n",
      "60000/60000 [==============================] - 2s 28us/sample - loss: 0.0919 - val_loss: 0.3272\n",
      "Epoch 19/50\n",
      "60000/60000 [==============================] - 2s 25us/sample - loss: 0.0912 - val_loss: 0.3208\n",
      "Epoch 20/50\n",
      "60000/60000 [==============================] - 2s 26us/sample - loss: 0.0906 - val_loss: 0.3288\n",
      "Epoch 21/50\n",
      "60000/60000 [==============================] - 2s 25us/sample - loss: 0.0901 - val_loss: 0.3289\n",
      "Epoch 22/50\n",
      "60000/60000 [==============================] - 2s 27us/sample - loss: 0.0896 - val_loss: 0.3353\n",
      "Epoch 23/50\n",
      "60000/60000 [==============================] - 2s 26us/sample - loss: 0.0890 - val_loss: 0.3282\n",
      "Epoch 24/50\n",
      "60000/60000 [==============================] - 2s 26us/sample - loss: 0.0886 - val_loss: 0.3331\n",
      "Epoch 25/50\n",
      "60000/60000 [==============================] - 2s 25us/sample - loss: 0.0882 - val_loss: 0.3387\n",
      "Epoch 26/50\n",
      "60000/60000 [==============================] - 2s 31us/sample - loss: 0.0878 - val_loss: 0.3398\n",
      "Epoch 27/50\n",
      "60000/60000 [==============================] - 2s 27us/sample - loss: 0.0874 - val_loss: 0.3419\n",
      "Epoch 28/50\n",
      "60000/60000 [==============================] - 1s 23us/sample - loss: 0.0871 - val_loss: 0.3518\n",
      "Epoch 29/50\n",
      "60000/60000 [==============================] - 2s 27us/sample - loss: 0.0867 - val_loss: 0.3569\n",
      "Epoch 30/50\n",
      "60000/60000 [==============================] - 2s 26us/sample - loss: 0.0863 - val_loss: 0.3520\n",
      "Epoch 31/50\n",
      "60000/60000 [==============================] - 2s 28us/sample - loss: 0.0861 - val_loss: 0.3556\n",
      "Epoch 32/50\n",
      "60000/60000 [==============================] - 1s 24us/sample - loss: 0.0858 - val_loss: 0.3566\n",
      "Epoch 33/50\n",
      "60000/60000 [==============================] - 2s 28us/sample - loss: 0.0855 - val_loss: 0.3542\n",
      "Epoch 34/50\n",
      "60000/60000 [==============================] - 1s 24us/sample - loss: 0.0853 - val_loss: 0.3626\n",
      "Epoch 35/50\n",
      "60000/60000 [==============================] - 2s 28us/sample - loss: 0.0851 - val_loss: 0.3536\n",
      "Epoch 36/50\n",
      "60000/60000 [==============================] - 2s 26us/sample - loss: 0.0848 - val_loss: 0.3607\n",
      "Epoch 37/50\n",
      "60000/60000 [==============================] - 2s 26us/sample - loss: 0.0846 - val_loss: 0.3623\n",
      "Epoch 38/50\n",
      "60000/60000 [==============================] - 2s 25us/sample - loss: 0.0845 - val_loss: 0.3589\n",
      "Epoch 39/50\n",
      "60000/60000 [==============================] - 2s 28us/sample - loss: 0.0844 - val_loss: 0.3628\n",
      "Epoch 40/50\n",
      "60000/60000 [==============================] - 2s 26us/sample - loss: 0.0841 - val_loss: 0.3642\n",
      "Epoch 41/50\n",
      "60000/60000 [==============================] - 2s 31us/sample - loss: 0.0840 - val_loss: 0.3660\n",
      "Epoch 42/50\n",
      "60000/60000 [==============================] - 1s 25us/sample - loss: 0.0838 - val_loss: 0.3660\n",
      "Epoch 43/50\n",
      "60000/60000 [==============================] - 2s 28us/sample - loss: 0.0837 - val_loss: 0.3662\n",
      "Epoch 44/50\n",
      "60000/60000 [==============================] - 2s 26us/sample - loss: 0.0836 - val_loss: 0.3702\n",
      "Epoch 45/50\n",
      "60000/60000 [==============================] - 2s 27us/sample - loss: 0.0834 - val_loss: 0.3693\n",
      "Epoch 46/50\n",
      "60000/60000 [==============================] - 2s 28us/sample - loss: 0.0833 - val_loss: 0.3653\n",
      "Epoch 47/50\n",
      "60000/60000 [==============================] - 2s 27us/sample - loss: 0.0832 - val_loss: 0.3724\n",
      "Epoch 48/50\n",
      "60000/60000 [==============================] - 2s 31us/sample - loss: 0.0831 - val_loss: 0.3794\n",
      "Epoch 49/50\n",
      "60000/60000 [==============================] - 2s 26us/sample - loss: 0.0830 - val_loss: 0.3801\n",
      "Epoch 50/50\n",
      "60000/60000 [==============================] - 2s 27us/sample - loss: 0.0829 - val_loss: 0.3791\n"
     ]
    },
    {
     "data": {
      "text/plain": [
       "<tensorflow.python.keras.callbacks.History at 0x15092bccbe0>"
      ]
     },
     "execution_count": 48,
     "metadata": {},
     "output_type": "execute_result"
    }
   ],
   "source": [
    "denoising_autoencoder = Model(input_img, decoded)\n",
    "denoising_autoencoder.compile(optimizer='adam', loss='binary_crossentropy')\n",
    "\n",
    "denoising_autoencoder.fit(x_train_noisy, x_train,\n",
    "                epochs=50,\n",
    "                batch_size=256,\n",
    "                shuffle=True,\n",
    "                validation_data=(x_test_noisy, x_test))"
   ]
  },
  {
   "cell_type": "code",
   "execution_count": 49,
   "metadata": {},
   "outputs": [],
   "source": [
    "denoising_encoder = Model(input_img, encoded)\n",
    "denoising_input = Input(shape=(32,))\n",
    "denoising_decoder_layers = denoising_autoencoder.layers[-3](denoising_input)\n",
    "denoising_decoder_layers = denoising_autoencoder.layers[-2](denoising_decoder_layers)\n",
    "denoising_decoder_layers = denoising_autoencoder.layers[-1](denoising_decoder_layers)\n",
    "denoising_decoder = Model(denoising_input, denoising_decoder_layers)\n",
    "\n",
    "encoded_imgs = denoising_encoder.predict(x_test_noisy)\n",
    "decoded_imgs = denoising_decoder.predict(encoded_imgs)"
   ]
  },
  {
   "cell_type": "code",
   "execution_count": 50,
   "metadata": {},
   "outputs": [
    {
     "data": {
      "image/png": "[encoded data removed]",
      "text/plain": [
       "<Figure size 1440x288 with 20 Axes>"
      ]
     },
     "metadata": {
      "needs_background": "light"
     },
     "output_type": "display_data"
    }
   ],
   "source": [
    "n = 10  # how many digits we will display\n",
    "plt.figure(figsize=(20, 4))\n",
    "for i in range(n):\n",
    "    # display original\n",
    "    ax = plt.subplot(2, n, i + 1)\n",
    "    plt.imshow(x_test_noisy[i].reshape(28, 28))\n",
    "    plt.gray()\n",
    "    ax.get_xaxis().set_visible(False)\n",
    "    ax.get_yaxis().set_visible(False)\n",
    "\n",
    "    # display reconstruction\n",
    "    ax = plt.subplot(2, n, i + 1 + n)\n",
    "    plt.imshow(decoded_imgs[i].reshape(28, 28))\n",
    "    plt.gray()\n",
    "    ax.get_xaxis().set_visible(False)\n",
    "    ax.get_yaxis().set_visible(False)\n",
    "plt.show()"
   ]
  },
  {
   "cell_type": "markdown",
   "metadata": {},
   "source": [
    "### What´s next?"
   ]
  },
  {
   "cell_type": "markdown",
   "metadata": {},
   "source": [
    "* Convolutional autoencoders\n",
    "* Sequence-to-sequence autoencoder\n",
    "* Variational autoencoders (VAE)\n",
    "* GANs"
   ]
  },
  {
   "cell_type": "code",
   "execution_count": null,
   "metadata": {
    "collapsed": true
   },
   "outputs": [],
   "source": []
  }
 ],
 "metadata": {
  "kernelspec": {
   "display_name": "Python 3",
   "language": "python",
   "name": "python3"
  },
  "language_info": {
   "codemirror_mode": {
    "name": "ipython",
    "version": 3
   },
   "file_extension": ".py",
   "mimetype": "text/x-python",
   "name": "python",
   "nbconvert_exporter": "python",
   "pygments_lexer": "ipython3",
   "version": "3.7.3"
  }
 },
 "nbformat": 4,
 "nbformat_minor": 2
}
